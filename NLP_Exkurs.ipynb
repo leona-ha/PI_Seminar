{
 "cells": [
  {
   "cell_type": "code",
   "execution_count": 1,
   "metadata": {},
   "outputs": [],
   "source": [
    "import pandas as pd\n",
    "import numpy as np\n",
    "import string\n",
    "import spacy\n",
    "import matplotlib.pyplot as plt\n",
    "\n",
    "from sklearn.model_selection import train_test_split\n",
    "from sklearn.feature_extraction.text import TfidfVectorizer, CountVectorizer, TfidfTransformer\n",
    "from sklearn.naive_bayes import MultinomialNB\n",
    "from sklearn.cluster import KMeans\n",
    "\n",
    "\n",
    "import wordcloud\n",
    "\n",
    "from pathlib import Path"
   ]
  },
  {
   "cell_type": "code",
   "execution_count": 2,
   "metadata": {},
   "outputs": [],
   "source": [
    "data_folder = Path(\"data_tech/\") \n",
    "\n",
    "file_to_open = data_folder / \"OSMI_2016_kurz.csv\""
   ]
  },
  {
   "cell_type": "code",
   "execution_count": 3,
   "metadata": {},
   "outputs": [],
   "source": [
    "df_2016 = pd.read_csv(file_to_open)\n",
    "df_2016.columns = map(str.lower, df_2016.columns)"
   ]
  },
  {
   "cell_type": "code",
   "execution_count": 4,
   "metadata": {},
   "outputs": [],
   "source": [
    "rename_dict = {'are you self-employed?': \"Employment\", \n",
    "              'does your employer provide mental health benefits as part of healthcare coverage?':\"Ment_Benefit\",\n",
    "              'has your employer ever formally discussed mental health (for example, as part of a wellness campaign or other official communication)?': \"Ment_Discuss\",\n",
    "               'do you think that discussing a mental health disorder with your employer would have negative consequences?': \"Ment_Consequence\",\n",
    "               'do you think that discussing a physical health issue with your employer would have negative consequences?': \"Phys_Consequence\",\n",
    "               'would you feel comfortable discussing a mental health disorder with your coworkers?': \"Discuss_Coworkers\",\n",
    "               'would you feel comfortable discussing a mental health disorder with your direct supervisor(s)?': \"Discuss_Supervisor\",\n",
    "               'do you feel that your employer takes mental health as seriously as physical health?': \"Ment_vs_Phys\",\n",
    "               'have you heard of or observed negative consequences for co-workers who have been open about mental health issues in your workplace?': \"Obs_Consequence\",\n",
    "               'if you have been diagnosed or treated for a mental health disorder, do you ever reveal this to coworkers or employees?': \"Reveal_Treatment\",\n",
    "               'do you believe your productivity is ever affected by a mental health issue?': \"Productivity\",\n",
    "               'would you be willing to bring up a physical health issue with a potential employer in an interview?': \"Interview_phys1\",\n",
    "               'why or why not?': \"Interview_phys2\",\n",
    "               'would you bring up a mental health issue with a potential employer in an interview?': \"Interview_psych1\",\n",
    "               'why or why not?.1': \"Interview_psych2\",\n",
    "               'do you feel that being identified as a person with a mental health issue would hurt your career?': \"Career_Consequence\",\n",
    "               'do you think that team members/co-workers would view you more negatively if they knew you suffered from a mental health issue?': \"Coworkers_view\",\n",
    "               'how willing would you be to share with friends and family that you have a mental illness?': \"Share_friends\",\n",
    "               'have you observed or experienced an unsupportive or badly handled response to a mental health issue in your current or previous workplace?': \"Obs_Response1\",\n",
    "               'have your observations of how another individual who discussed a mental health disorder made you less likely to reveal a mental health issue yourself in your current workplace?': \"Obs_Response2\",\n",
    "               'have you had a mental health disorder in the past?': \"Disorder\",\n",
    "               'have you ever sought treatment for a mental health issue from a mental health professional?': \"Treatment\",\n",
    "               'if you have a mental health issue, do you feel that it interferes with your work when being treated effectively?': \"Interferes1\",\n",
    "               'if you have a mental health issue, do you feel that it interferes with your work when not being treated effectively?': \"Interferes2\",\n",
    "               'what is your age?': \"Age\", \n",
    "               'what is your gender?': \"Gender\",\n",
    "               'what country do you live in?': \"Country\",\n",
    "              }"
   ]
  },
  {
   "cell_type": "code",
   "execution_count": 5,
   "metadata": {},
   "outputs": [],
   "source": [
    "df = df_2016.rename(columns = rename_dict, errors = \"raise\")"
   ]
  },
  {
   "cell_type": "code",
   "execution_count": 6,
   "metadata": {},
   "outputs": [],
   "source": [
    "df = df[[\"Interview_phys1\", \"Interview_phys2\", \"Interview_psych1\", \"Interview_psych2\"]]"
   ]
  },
  {
   "cell_type": "code",
   "execution_count": 7,
   "metadata": {},
   "outputs": [],
   "source": [
    "# normalerweise nicht empfehlenswert, aber hier wissen wir ja wie viele fehlende Werte es gibt. \n",
    "df = df.dropna()"
   ]
  },
  {
   "cell_type": "code",
   "execution_count": 8,
   "metadata": {},
   "outputs": [],
   "source": [
    "# Change sentences to lowercase\n",
    "df = df.applymap(lambda s:s.lower() if type(s) == str else s)"
   ]
  },
  {
   "cell_type": "code",
   "execution_count": 9,
   "metadata": {},
   "outputs": [],
   "source": [
    "# das englische Spacy Sprach Paket müsst ihr vorher runterladen \n",
    "# https://spacy.io/usage/models\n",
    "nlp = spacy.load(\"en_core_web_md\")"
   ]
  },
  {
   "cell_type": "code",
   "execution_count": 10,
   "metadata": {},
   "outputs": [],
   "source": [
    "# Tokenize Words \n",
    "df[\"Interview_phys_NLP\"] = [nlp(s) for s in df[\"Interview_phys2\"]]"
   ]
  },
  {
   "cell_type": "code",
   "execution_count": 11,
   "metadata": {},
   "outputs": [],
   "source": [
    "df[\"Interview_psych_NLP\"] = [nlp(s) for s in df[\"Interview_psych2\"]]"
   ]
  },
  {
   "cell_type": "code",
   "execution_count": 12,
   "metadata": {},
   "outputs": [
    {
     "data": {
      "text/html": [
       "<div>\n",
       "<style scoped>\n",
       "    .dataframe tbody tr th:only-of-type {\n",
       "        vertical-align: middle;\n",
       "    }\n",
       "\n",
       "    .dataframe tbody tr th {\n",
       "        vertical-align: top;\n",
       "    }\n",
       "\n",
       "    .dataframe thead th {\n",
       "        text-align: right;\n",
       "    }\n",
       "</style>\n",
       "<table border=\"1\" class=\"dataframe\">\n",
       "  <thead>\n",
       "    <tr style=\"text-align: right;\">\n",
       "      <th></th>\n",
       "      <th>Interview_phys1</th>\n",
       "      <th>Interview_phys2</th>\n",
       "      <th>Interview_psych1</th>\n",
       "      <th>Interview_psych2</th>\n",
       "      <th>Interview_phys_NLP</th>\n",
       "      <th>Interview_psych_NLP</th>\n",
       "    </tr>\n",
       "  </thead>\n",
       "  <tbody>\n",
       "    <tr>\n",
       "      <td>1</td>\n",
       "      <td>maybe</td>\n",
       "      <td>it would depend on the health issue. if there ...</td>\n",
       "      <td>no</td>\n",
       "      <td>while mental health has become a more prominen...</td>\n",
       "      <td>(it, would, depend, on, the, health, issue, .,...</td>\n",
       "      <td>(while, mental, health, has, become, a, more, ...</td>\n",
       "    </tr>\n",
       "    <tr>\n",
       "      <td>2</td>\n",
       "      <td>yes</td>\n",
       "      <td>they would provable need to know, to judge if ...</td>\n",
       "      <td>yes</td>\n",
       "      <td>stigma, mainly.</td>\n",
       "      <td>(they, would, provable, need, to, know, ,, to,...</td>\n",
       "      <td>(stigma, ,, mainly, .)</td>\n",
       "    </tr>\n",
       "    <tr>\n",
       "      <td>3</td>\n",
       "      <td>yes</td>\n",
       "      <td>old back injury, doesn't cause me many issues ...</td>\n",
       "      <td>maybe</td>\n",
       "      <td>would not if i was not 100% sure that the disc...</td>\n",
       "      <td>(old, back, injury, ,, does, n't, cause, me, m...</td>\n",
       "      <td>(would, not, if, i, was, not, 100, %, sure, th...</td>\n",
       "    </tr>\n",
       "    <tr>\n",
       "      <td>4</td>\n",
       "      <td>maybe</td>\n",
       "      <td>depending on the interview stage and whether i...</td>\n",
       "      <td>no</td>\n",
       "      <td>i don't know</td>\n",
       "      <td>(depending, on, the, interview, stage, and, wh...</td>\n",
       "      <td>(i, do, n't, know)</td>\n",
       "    </tr>\n",
       "    <tr>\n",
       "      <td>5</td>\n",
       "      <td>yes</td>\n",
       "      <td>if it would potentially affect my ability to d...</td>\n",
       "      <td>maybe</td>\n",
       "      <td>it would depend on the field &amp; what i knew of ...</td>\n",
       "      <td>(if, it, would, potentially, affect, my, abili...</td>\n",
       "      <td>(it, would, depend, on, the, field, &amp;, what, i...</td>\n",
       "    </tr>\n",
       "  </tbody>\n",
       "</table>\n",
       "</div>"
      ],
      "text/plain": [
       "  Interview_phys1                                    Interview_phys2  \\\n",
       "1           maybe  it would depend on the health issue. if there ...   \n",
       "2             yes  they would provable need to know, to judge if ...   \n",
       "3             yes  old back injury, doesn't cause me many issues ...   \n",
       "4           maybe  depending on the interview stage and whether i...   \n",
       "5             yes  if it would potentially affect my ability to d...   \n",
       "\n",
       "  Interview_psych1                                   Interview_psych2  \\\n",
       "1               no  while mental health has become a more prominen...   \n",
       "2              yes                                   stigma, mainly.    \n",
       "3            maybe  would not if i was not 100% sure that the disc...   \n",
       "4               no                                       i don't know   \n",
       "5            maybe  it would depend on the field & what i knew of ...   \n",
       "\n",
       "                                  Interview_phys_NLP  \\\n",
       "1  (it, would, depend, on, the, health, issue, .,...   \n",
       "2  (they, would, provable, need, to, know, ,, to,...   \n",
       "3  (old, back, injury, ,, does, n't, cause, me, m...   \n",
       "4  (depending, on, the, interview, stage, and, wh...   \n",
       "5  (if, it, would, potentially, affect, my, abili...   \n",
       "\n",
       "                                 Interview_psych_NLP  \n",
       "1  (while, mental, health, has, become, a, more, ...  \n",
       "2                             (stigma, ,, mainly, .)  \n",
       "3  (would, not, if, i, was, not, 100, %, sure, th...  \n",
       "4                                 (i, do, n't, know)  \n",
       "5  (it, would, depend, on, the, field, &, what, i...  "
      ]
     },
     "execution_count": 12,
     "metadata": {},
     "output_type": "execute_result"
    }
   ],
   "source": [
    "df.head()"
   ]
  },
  {
   "cell_type": "code",
   "execution_count": 24,
   "metadata": {},
   "outputs": [],
   "source": [
    "example = df[\"Interview_psych_NLP\"][1]"
   ]
  },
  {
   "cell_type": "code",
   "execution_count": 25,
   "metadata": {},
   "outputs": [
    {
     "data": {
      "text/plain": [
       "while mental health has become a more prominent issue recently, i feel like there is still a lot of stigma surrounding it. at this point, with our culture, i would not bring it up. i hope that within the next 20-30 years that stigma will be gone and it can be brought up safely in an interview."
      ]
     },
     "execution_count": 25,
     "metadata": {},
     "output_type": "execute_result"
    }
   ],
   "source": [
    "example"
   ]
  },
  {
   "cell_type": "code",
   "execution_count": null,
   "metadata": {},
   "outputs": [],
   "source": []
  },
  {
   "cell_type": "code",
   "execution_count": 13,
   "metadata": {},
   "outputs": [],
   "source": [
    "def spacify_my_text(text, custom_stop=None, lemmatize=True):\n",
    "    ''' Loops through list of text-corpora, tokenizes and lemmatizes words and\n",
    "    removes stop words and punctutations.\n",
    "    Returns lemmatized list of words'''\n",
    "\n",
    "    spacyfied = []\n",
    "    original = list(nlp.Defaults.stop_words) # list of stop words\n",
    "    original.append(' ') # adds space to stop word list\n",
    "    for p in string.punctuation:\n",
    "        original.append(p)\n",
    "\n",
    "    if custom_stop: # adds custom stop words to basic list\n",
    "        for i in custom_stop:\n",
    "            if i not in original:\n",
    "                original.append(i)\n",
    "\n",
    "    parsed_sentence = nlp(text.lower())\n",
    "    treated_sentence = ''\n",
    "\n",
    "# With SpaCy we can access each word’s base form with a token’s .lemma_ method\n",
    "\n",
    "    for token in parsed_sentence:\n",
    "        if str(token) not in original:\n",
    "            if lemmatize:\n",
    "                treated_sentence += str(token.lemma_) + ' '\n",
    "            else:\n",
    "                treated_sentence += str(token) + ' '\n",
    "    spacyfied.append(treated_sentence.strip())\n",
    "\n",
    "    return spacyfied"
   ]
  },
  {
   "cell_type": "code",
   "execution_count": null,
   "metadata": {},
   "outputs": [],
   "source": []
  }
 ],
 "metadata": {
  "kernelspec": {
   "display_name": "Python 3",
   "language": "python",
   "name": "python3"
  },
  "language_info": {
   "codemirror_mode": {
    "name": "ipython",
    "version": 3
   },
   "file_extension": ".py",
   "mimetype": "text/x-python",
   "name": "python",
   "nbconvert_exporter": "python",
   "pygments_lexer": "ipython3",
   "version": "3.7.4"
  }
 },
 "nbformat": 4,
 "nbformat_minor": 2
}
