{
 "cells": [
  {
   "cell_type": "markdown",
   "metadata": {},
   "source": [
    "## Machine Learning & Deep Learning"
   ]
  },
  {
   "cell_type": "markdown",
   "metadata": {},
   "source": [
    "Wir geben dem Computer einen Lern-Algorithmus mit dem er die Vorhersage von bestimmten Variablen y auf Grundlage von einem möglichst großen Datensatz X lernt. \n",
    "<img src=\"img/ml_overview.png\" alt=\"ml_overview\" style=\"width: 500px;\"/>"
   ]
  },
  {
   "cell_type": "markdown",
   "metadata": {},
   "source": [
    "### Supervised vs. Unsupervised Learning"
   ]
  },
  {
   "cell_type": "markdown",
   "metadata": {},
   "source": [
    "Beim Supervised Learning kennen wir die richtigen Antworten. Das Modell sagt y basierend auf X voraus.\n",
    "Das Supervised Learning hat zwei Untertypen: **Classification** und **Regression**. Bei der Classification wird eine Kategorie, bei der Regression einen scalar vorhersagen.\n",
    "\n",
    "Beim Unsupervised Learning geben wir die Daten X in ein Modell und untersuchen die Struktur der Daten, ohne zu wissen, wie das Ergebnis aussehen sollte.\n",
    "\n",
    "Es gibt zahlreiche Machine Learning Modelle mit unterschiedlichen Vor- und Nachteilen. Welches Modell wir wählen hängt von der Fragestellung und den Eigenschaften (z.B. Größe von N, Anzahl an features, Format der Daten) ab. Oft probiert man mehrere Modelle aus, variiert die **Hyperparameter** und vergleicht deren **Metrics** (z.B. Anteil an richtigen Vorhersagen in %). Heute werden wir drei Modelle ausprobieren und sie in ihrer Vorhersagekraft vergleichen."
   ]
  },
  {
   "cell_type": "markdown",
   "metadata": {},
   "source": [
    "<img src=\"img/super_vs_unsuper.png\" alt=\"learning\" style=\"width: 500px;\"/>"
   ]
  },
  {
   "cell_type": "markdown",
   "metadata": {},
   "source": [
    "**1. Aufgabe**\n",
    "Wir wollen das Inanspruchnahmeverhalten von psychologischer/ psychotherapeutischer Behandlung (\"Have you ever sought treatment for a mental health issue from a mental health professional?\", Yes/No) mithilfe von den Variablen zur Einstellung ggü. Mental Health im (Arbeits-)Umfeld vorhersagen, die wir in der letzten Sitzung vorverarbeitet haben. \n",
    "1. Handelt es sich dabei um Supervised oder Unsupervised Learning?\n",
    "2. Handelt es sich dabei um Classification oder Regression?\n",
    "\n",
    "Schreiben Sie mir die Antwort per Slack!"
   ]
  },
  {
   "cell_type": "markdown",
   "metadata": {},
   "source": [
    "## Schritt 1: Importiere relevante Packages"
   ]
  },
  {
   "cell_type": "markdown",
   "metadata": {},
   "source": [
    "Scikit-learn ist das bekanntest Python Package für Machine Learning. Es enthält die wichtigsten Modelle und Model Evaluation Metrics"
   ]
  },
  {
   "cell_type": "code",
   "execution_count": 1,
   "metadata": {},
   "outputs": [],
   "source": [
    "import pandas as pd \n",
    "import numpy as np\n",
    "import helpers\n",
    "\n",
    "import seaborn as sns\n",
    "import matplotlib.pyplot as plt\n",
    "\n",
    "from sklearn.linear_model import LogisticRegression\n",
    "from sklearn.svm import LinearSVC\n",
    "from sklearn.dummy import DummyClassifier\n",
    "from sklearn.svm import SVC\n",
    "\n",
    "# Validation libraries\n",
    "from sklearn import metrics\n",
    "from sklearn.metrics import accuracy_score, recall_score, mean_squared_error, precision_score, precision_recall_curve\n",
    "from sklearn.metrics import confusion_matrix\n",
    "from sklearn.metrics import plot_confusion_matrix\n",
    "from sklearn.model_selection import train_test_split\n",
    "from sklearn.model_selection import KFold, cross_val_score\n",
    "\n",
    "\n",
    "# Display plots inside the notebook\n",
    "%matplotlib inline\n",
    "sns.set(style=\"white\", palette=\"pastel\")\n",
    "\n",
    "# Ignore warning related to pandas_profiling\n",
    "import warnings\n",
    "warnings.filterwarnings('ignore') \n",
    "\n",
    "from pathlib import Path\n",
    "\n",
    "# Display all dataframe columns in outputs (it has 63 columns, which is wider than the notebook)\n",
    "# This sets it up to display with a horizontal scroll instead of hiding the middle columns\n",
    "pd.set_option('display.max_columns', 100) \n",
    "pd.set_option('display.max_colwidth', -1)"
   ]
  },
  {
   "cell_type": "markdown",
   "metadata": {},
   "source": [
    "## Schritt 2: Train und Test Datensatz festlegen"
   ]
  },
  {
   "cell_type": "code",
   "execution_count": 2,
   "metadata": {},
   "outputs": [],
   "source": [
    "# mit der Pickle Funktion packen wir den fertig bearbeiteten Dataframe in eine Datei, die wir nächste Woche einfach \n",
    "# importieren können. \n",
    "X = pd.read_pickle(\"X_df.pkl\")\n",
    "y = pd.read_pickle(\"y_df.pkl\")"
   ]
  },
  {
   "cell_type": "code",
   "execution_count": 3,
   "metadata": {},
   "outputs": [],
   "source": [
    "seed = 5 # wenn wir den seed festlegen können wir den random-split später reproduzieren\n",
    "test_size = 0.33 # d.h. 33% des Datensatzes werden zufällig ausgewählt und dem Test- Datensatz zugeordnet.\n",
    "\n",
    "# Durch den Train Test Split teilen wir den Datensatz in einen Train-Datensatz und einen Test-Datensatz auf. \n",
    "# Das Modell wird auf dem Train-Datensatz trainiert und am Test-Datensatz getestet.\n",
    "\n",
    "X_train, X_test, y_train, y_test = train_test_split(X, y, test_size=test_size, random_state=seed)"
   ]
  },
  {
   "cell_type": "markdown",
   "metadata": {},
   "source": [
    "#### Vorbereitung zur Evaluierung von Modellen:\n",
    "1. An den gleichen Daten trainieren und testen: Wir wissen nicht, ob das Modell auch für andere Daten gute Vorhersagen trifft. \n",
    "2. **Train/Test Split**: Teilt den Datensatz in zwei Teile auf, sodass an unterschiedlichen Daten gelernt und getestet wird. Bessere Schätzung der Out-of-Sample-Performance (=Generalisierung) als 1."
   ]
  },
  {
   "cell_type": "markdown",
   "metadata": {},
   "source": [
    "### 2.1 K-fold Cross-Validation"
   ]
  },
  {
   "cell_type": "markdown",
   "metadata": {},
   "source": [
    "Bei der K-fold Cross-Validation wir der Datensatz in K verschiedene Subsamples (=folds) unterteilt. Jeder fold wird dabei einmal als Test-Datensatz benutzt (während die restlichen **K-1** folds zum Training genutzt werden). So kann die Modell-Güte an verschiedenen Datensätzen getestet werden und ist somit objektiver. Das Ergebnis sind **K** Accuracy-Scores, aus denen i.d.R. der Mittelwert gebildet wird. "
   ]
  },
  {
   "cell_type": "code",
   "execution_count": null,
   "metadata": {},
   "outputs": [],
   "source": []
  },
  {
   "cell_type": "markdown",
   "metadata": {},
   "source": [
    "## Schritt 3: Modelle "
   ]
  },
  {
   "cell_type": "markdown",
   "metadata": {},
   "source": [
    "**Kurze Wiederholung Model Metrics:**\n",
    "- **Accuracy** = Verhältnis der korrekten Vorhersagen zur Gesamtzahl der Vorhersagen. Wie oft ist der Classifier korrekt?"
   ]
  },
  {
   "cell_type": "code",
   "execution_count": 4,
   "metadata": {},
   "outputs": [
    {
     "name": "stdout",
     "output_type": "stream",
     "text": [
      "0.4957446808510638\n"
     ]
    }
   ],
   "source": [
    "# Bevor wir die anderen Modelle anwenden legen wir ein Baseline Modelle fest. \n",
    "# Dieses überprüft, wie gut die Vorhersagekraft ist, wenn immer der Mittelwert vorhergesagt wird. \n",
    "# Die Vorhersagekraft unserer Modelle sollten nicht schlechter sein als das Baseline Modell.\n",
    "\n",
    "# Create dummy classifer\n",
    "dummy = DummyClassifier(strategy='uniform', random_state=seed)\n",
    "\n",
    "# \"Train\" model\n",
    "dummy.fit(X_train, y_train)\n",
    "# Get accuracy score\n",
    "dummy_accuracy = dummy.score(X_test, y_test) \n",
    "print(dummy_accuracy)"
   ]
  },
  {
   "cell_type": "markdown",
   "metadata": {},
   "source": [
    "### 3.1. Logistische Regression"
   ]
  },
  {
   "cell_type": "markdown",
   "metadata": {},
   "source": [
    "Wir beginnen mit der logistischen Regression - ein gutes Einsteigermodell. Die logistische Regression ist - trotz des Namens - keine eigentliche Regression, sondern ein Klassifikationsmodell. Sie wird hautpsächlich für binäre Vorhersagen (z.B. Krankheit liegt vor/ Krankheit liegt nicht vor) verwendet.\n",
    "\n",
    "Die logistische Regression verwendet ein lineares Modell, wandelt es jedoch mit Hilfe einer Exponentialfunktion, der so genannten Sigmoidfunktion, in **Wahrscheinlichkeiten** um.\n",
    "Die logistische Regression modelliert also die logarithmische Wahrscheinlichkeit (genannt: Logit), dass die vorhergesagte Variable den Wert 1 (oder: Yes/True/ Liegt vor...) annimmt.\n",
    "\n",
    "Der **classification treshold** (=Schwellenwert) legt fest, ab welcher Wahrscheinlichkeit wir davon ausgehen, dass die vorhergesagte Variable den Wert 1 annimmt. Er liegt standardmäßig bei 0.5. Ist die geschätzte Wahrscheinlichkeit für Yi = 1 größer (oder gleich) 0.5, so wird die i. Beobachtung als 1 klassifiziert, sonst wird von 0 ausgegangen. Der Schwellenwert kann je nach Fragestellung angepasst werden. \n",
    "\n",
    "<img src=\"img/linear_vs_log.png\" alt=\"linear_vs_log\" style=\"width: 400px;\"/>"
   ]
  },
  {
   "cell_type": "markdown",
   "metadata": {},
   "source": [
    "**2. Aufgabe** \n",
    "\n",
    "a.) Ein junger Berliner möchte mithilfe einer logistischen Regression vorhersagen, ob bei seinen Tinder-Matches der/die EINE dabei ist, mit der/dem er für IMMER glücklich sein wird. Wenn das Modell Ja sagt möchte er nicht zögern und die auserwählte Person umgehend seinen Eltern vorstellen. \n",
    "\n",
    "b.) Ein junger Berliner möchte mithilfe einer logistischen Regression vorhersagen, welches seiner Tinder-Matches potentiell auf ein Date mit ihm gehen würde. Er möchte alles mitnehmen was geht und nichts verpassen.  \n",
    "\n",
    "Sollte man bei dem Modell in a.) den Schwellenwert hoch- oder runtersetzen? Sollte man bei dem Modell in b.) den Schwellenwert hoch- oder runtersetzen? Schreiben Sie mir die Antwort auf Slack!"
   ]
  },
  {
   "cell_type": "markdown",
   "metadata": {},
   "source": [
    "### 3.1.1 Modell anlegen,  trainieren und evaluieren"
   ]
  },
  {
   "cell_type": "code",
   "execution_count": 5,
   "metadata": {},
   "outputs": [
    {
     "data": {
      "text/plain": [
       "LogisticRegression()"
      ]
     },
     "execution_count": 5,
     "metadata": {},
     "output_type": "execute_result"
    }
   ],
   "source": [
    "# Modell anlegen. Der Hyperparameter C legt die Regularization Strength fest, d.h. wie sehr falsche Vorhersagen \n",
    "# \"bestraft\" werden. Große Werte von C erlauben Fehler und damit komplexere Modelle - dafür ist das Risiko von\n",
    "# \"Overfitting\" erhöht. Kleine Werte von C bestrafen Fehler stärker, d.h. das Modell wird einfacher.\n",
    "# Wenn es zu einfach wird droht \"Underfitting\"\n",
    "\n",
    "log_model = LogisticRegression(C=1.0) # Lege ein Modell an. C ist hier auf dem Default. \n",
    "log_model.fit(X_train, y_train) # trainiere das Modell, sodass es bessere Vorhersagen trifft"
   ]
  },
  {
   "cell_type": "code",
   "execution_count": 6,
   "metadata": {},
   "outputs": [
    {
     "name": "stdout",
     "output_type": "stream",
     "text": [
      "Train Accuracy: 0.8614900314795383\n",
      "\n",
      "Test Accuracy: 0.825531914893617\n"
     ]
    }
   ],
   "source": [
    "# Zunächst sagen wir unseren Testdatensatz mithilfe des Train Datensatzes vorher. \n",
    "\n",
    "y_pred_train = log_model.predict(X_train)\n",
    "\n",
    "accuracy = accuracy_score(y_train, y_pred_train)\n",
    "print(\"Train Accuracy: {}\".format(accuracy))\n",
    "\n",
    "\n",
    "# Nun sagen wir unseren Testdatensatz mithilfe des Test Datensatzes vorher. \n",
    "# Dieser wurde von unserem Modell noch nie gesehen. \n",
    "\n",
    "y_pred_test = log_model.predict(X_test)\n",
    "    \n",
    "log_accuracy = accuracy_score(y_test, y_pred_test)\n",
    "print(\"\\nTest Accuracy: {}\".format(log_accuracy))"
   ]
  },
  {
   "cell_type": "markdown",
   "metadata": {},
   "source": [
    "**3. Aufgabe (Hyperparameter Tuning):**\n",
    "- setzen Sie unterschiedliche Werte für den Hyperparameter C ein und schauen Sie, wie sich die Train Accuracy und die Test Accuracy verändern. Behalten Sie den besten Wert (Default ist C=1.0. Die Werte für C müssen > 0 sein).\n",
    "- Was beobachten Sie für unterschiedliche Werte von C? Was bedeutet es, wenn die Train Accuracy höher ist, als die Test Accuracy? Schreiben Sie mir auf Slack. "
   ]
  },
  {
   "cell_type": "markdown",
   "metadata": {},
   "source": [
    "### 3.1.2 Vorhersagen visualisieren"
   ]
  },
  {
   "cell_type": "code",
   "execution_count": 7,
   "metadata": {},
   "outputs": [
    {
     "data": {
      "text/html": [
       "<div>\n",
       "<style scoped>\n",
       "    .dataframe tbody tr th:only-of-type {\n",
       "        vertical-align: middle;\n",
       "    }\n",
       "\n",
       "    .dataframe tbody tr th {\n",
       "        vertical-align: top;\n",
       "    }\n",
       "\n",
       "    .dataframe thead th {\n",
       "        text-align: right;\n",
       "    }\n",
       "</style>\n",
       "<table border=\"1\" class=\"dataframe\">\n",
       "  <thead>\n",
       "    <tr style=\"text-align: right;\">\n",
       "      <th></th>\n",
       "      <th>Predicted Value</th>\n",
       "      <th>Probability (left: No, right: Yes)</th>\n",
       "      <th>Result</th>\n",
       "    </tr>\n",
       "    <tr>\n",
       "      <th>Actual Value</th>\n",
       "      <th></th>\n",
       "      <th></th>\n",
       "      <th></th>\n",
       "    </tr>\n",
       "  </thead>\n",
       "  <tbody>\n",
       "    <tr>\n",
       "      <td>1</td>\n",
       "      <td>1</td>\n",
       "      <td>[0.1963175677623954, 0.8036824322376046]</td>\n",
       "      <td>Right</td>\n",
       "    </tr>\n",
       "    <tr>\n",
       "      <td>1</td>\n",
       "      <td>1</td>\n",
       "      <td>[0.06875050341843991, 0.9312494965815601]</td>\n",
       "      <td>Right</td>\n",
       "    </tr>\n",
       "    <tr>\n",
       "      <td>0</td>\n",
       "      <td>0</td>\n",
       "      <td>[0.804661381846588, 0.195338618153412]</td>\n",
       "      <td>Right</td>\n",
       "    </tr>\n",
       "    <tr>\n",
       "      <td>1</td>\n",
       "      <td>0</td>\n",
       "      <td>[0.7991610321635414, 0.20083896783645866]</td>\n",
       "      <td>Wrong</td>\n",
       "    </tr>\n",
       "    <tr>\n",
       "      <td>1</td>\n",
       "      <td>1</td>\n",
       "      <td>[0.1967907173382175, 0.8032092826617825]</td>\n",
       "      <td>Right</td>\n",
       "    </tr>\n",
       "    <tr>\n",
       "      <td>1</td>\n",
       "      <td>1</td>\n",
       "      <td>[0.1945473571767854, 0.8054526428232146]</td>\n",
       "      <td>Right</td>\n",
       "    </tr>\n",
       "    <tr>\n",
       "      <td>1</td>\n",
       "      <td>1</td>\n",
       "      <td>[0.07219009701265067, 0.9278099029873493]</td>\n",
       "      <td>Right</td>\n",
       "    </tr>\n",
       "    <tr>\n",
       "      <td>0</td>\n",
       "      <td>0</td>\n",
       "      <td>[0.9278437959044844, 0.07215620409551557]</td>\n",
       "      <td>Right</td>\n",
       "    </tr>\n",
       "    <tr>\n",
       "      <td>0</td>\n",
       "      <td>1</td>\n",
       "      <td>[0.35979035185356, 0.64020964814644]</td>\n",
       "      <td>Wrong</td>\n",
       "    </tr>\n",
       "    <tr>\n",
       "      <td>0</td>\n",
       "      <td>0</td>\n",
       "      <td>[0.897188032760627, 0.10281196723937305]</td>\n",
       "      <td>Right</td>\n",
       "    </tr>\n",
       "  </tbody>\n",
       "</table>\n",
       "</div>"
      ],
      "text/plain": [
       "              Predicted Value         Probability (left: No, right: Yes)  \\\n",
       "Actual Value                                                               \n",
       "1             1                [0.1963175677623954, 0.8036824322376046]    \n",
       "1             1                [0.06875050341843991, 0.9312494965815601]   \n",
       "0             0                [0.804661381846588, 0.195338618153412]      \n",
       "1             0                [0.7991610321635414, 0.20083896783645866]   \n",
       "1             1                [0.1967907173382175, 0.8032092826617825]    \n",
       "1             1                [0.1945473571767854, 0.8054526428232146]    \n",
       "1             1                [0.07219009701265067, 0.9278099029873493]   \n",
       "0             0                [0.9278437959044844, 0.07215620409551557]   \n",
       "0             1                [0.35979035185356, 0.64020964814644]        \n",
       "0             0                [0.897188032760627, 0.10281196723937305]    \n",
       "\n",
       "             Result  \n",
       "Actual Value         \n",
       "1             Right  \n",
       "1             Right  \n",
       "0             Right  \n",
       "1             Wrong  \n",
       "1             Right  \n",
       "1             Right  \n",
       "1             Right  \n",
       "0             Right  \n",
       "0             Wrong  \n",
       "0             Right  "
      ]
     },
     "execution_count": 7,
     "metadata": {},
     "output_type": "execute_result"
    }
   ],
   "source": [
    "# Erstelle einen Dataframe mit True und Predicted Values und der errechneten Wahrscheinlichkeit  \n",
    "\n",
    "probabilities = log_model.predict_proba(X_test)\n",
    "\n",
    "log_df = pd.DataFrame(zip(y_test, y_pred_test, probabilities), \n",
    "                   columns = [\"Actual Value\", \"Predicted Value\", \"Probability (left: No, right: Yes)\"])\n",
    "\n",
    "log_df[\"Result\"] = np.where(log_df[\"Actual Value\"] == log_df[\"Predicted Value\"], \"Right\", \"Wrong\")\n",
    "\n",
    "\n",
    "log_df.set_index(\"Actual Value\").head(10)"
   ]
  },
  {
   "cell_type": "code",
   "execution_count": 8,
   "metadata": {},
   "outputs": [
    {
     "data": {
      "text/plain": [
       "<sklearn.metrics._plot.confusion_matrix.ConfusionMatrixDisplay at 0x7f9065ad5b50>"
      ]
     },
     "execution_count": 8,
     "metadata": {},
     "output_type": "execute_result"
    },
    {
     "data": {
      "image/png": "[encoded data removed]",
      "text/plain": [
       "<Figure size 720x720 with 2 Axes>"
      ]
     },
     "metadata": {
      "needs_background": "light"
     },
     "output_type": "display_data"
    }
   ],
   "source": [
    "# Plot Confusion Matrix \n",
    "fig, ax = plt.subplots(figsize=(10, 10))\n",
    "\n",
    "confusion_matrix(y_pred_test, y_test)\n",
    "metrics.plot_confusion_matrix(log_model, X_test, y_test, normalize=None, ax=ax)"
   ]
  },
  {
   "cell_type": "markdown",
   "metadata": {},
   "source": [
    "**Vorteile der logistischen Regression:**\n",
    "- schnelle Rechenzeit\n",
    "- Input Vektor X kann skalar, ordinal, kategorial oder eine Mischung davon sein\n",
    "- der classification treshold kann angepasst werden, um entweder Sensitivität (Recall) oder Spezifität (Precision)  zu optimieren\n",
    "- liefert Wahrscheinlichkeiten\n",
    "\n",
    "**Nachteile der logistischen Regression:**\n",
    "- erfordert manuelles Feature-Engineering (z.B. One-Hot-Encoding)\n",
    "- Class Imbalance kann die Koeffizienten stark beeinflussen\n",
    "- Der Classification Treshold ist immer linear"
   ]
  },
  {
   "cell_type": "markdown",
   "metadata": {},
   "source": [
    "### 3. 2. Support Vector Classifier (SVC)"
   ]
  },
  {
   "cell_type": "markdown",
   "metadata": {},
   "source": [
    "Support Vector Machines haben Sie in der Sitzung vor 3 Wochen bereits kennengelernt (die Mood Rythm App). Eine Support Vector Machine versucht die beste **decision boundary (oder Hyperplane bei >2 Features)** für die Klassifizierung von Datenpunkten zu geben. Die beste decision boundary ist dabei eine, die eine möglichst große **margin** hat und gleichzeitig möglichst wenige falsche Klassifizierungen. \n",
    " \n",
    "<img src=\"img/cats_SVM.png\" alt=\"svm_cats\" style=\"width: 400px;\"/>\n",
    "\n",
    "Wenn die Daten nicht (wie in den oberen Beispielen) linear trennbar sind können wir den **Kernel Trick** anwenden. In diesem Fall projizieren wir die Daten von einem 2D in einen 3(oder mehr)D Raum und schauen, ob sich so eine optimale Hyperplane finden lässt. Der Kernel ist dabei die mathematische Funktion, die wir anwenden, um die Daten optimal zu transformieren. \n",
    "Es gibt viele verschiedene Kernels, was Support Vector Machines extrem flexibel macht.\n",
    "Wir werden uns heute den **RBF Kernel** ansehen und ihn mit der Linearen Support Vector Machine vergleichen. \n",
    "\n",
    "<img src=\"img/kernel_trick_1.png\" alt=\"svm_kernel1\" style=\"width: 400px;\"/>\n",
    "<img src=\"img/kernel_trick_2.png\" alt=\"svm_kernel2\" style=\"width: 600px;\"/>\n",
    "\n",
    "Das Strafmaß (= penalty) für falsche Klassifizierungen wird wieder durch den Hyperparameter **C** kontrolliert. Je weiter ein falsch klassifizierter Datenpunkt von der decision boundary entfernt ist, desto größer die Strafe. \n",
    "C verhält sich hier anders als bei der Logistischen Regression: Bei einem kleinen C ist der Classifier recht entspannt, was falsche Vorhersagen angeht (Konsequenz: High Bias, Low Variance --> Underfitting). Je größer C desto stärker wird das Modell für falsche Vorhersagen bestraft (Konsequenz: High Variance, Low Bias --> Overfitting).\n",
    "\n",
    "<img src=\"img/C_regularization.png\" alt=\"C\" style=\"width: 600px;\"/>\n",
    "\n",
    "Bei Linearen SVM müssen wir nur C festlegen. Bei nicht linearen Kernels, z.B. auch dem RBF Kernel müssen wir außerdem den Hyperparameter **gamma** optimieren. Dieser legt fest, welche Punkte in das Training miteinbezogen werden. Wenn Gamma niedrig ist, ist die \"Kurvigkeit\" der Entscheidungsgrenze sehr flach und damit die Entscheidungsregion sehr breit (--> Underfitting). Wenn das Gamma hoch ist, ist die \"Kurvigkeit\" der Entscheidungsgrenze hoch, wodurch Inseln von Entscheidungsgrenzen um Datenpunkte herum entstehen (--> Overfitting). Hier zwei Beispiele für gamma = 1.0 und gamma= 100\n",
    "\n",
    "\n",
    "<img src=\"img/gamma_1.0.png\" alt=\"C\" style=\"width: 400px;\"/>\n",
    "<img src=\"img/gamma_100.png\" alt=\"C\" style=\"width: 400px;\"/>"
   ]
  },
  {
   "cell_type": "markdown",
   "metadata": {},
   "source": [
    "### 3.2.1 Modell anlegen,  trainieren und evaluieren"
   ]
  },
  {
   "cell_type": "markdown",
   "metadata": {},
   "source": [
    "#### 3.2.1.1 Linear SVM"
   ]
  },
  {
   "cell_type": "code",
   "execution_count": 9,
   "metadata": {},
   "outputs": [],
   "source": [
    "# Legen Sie einen Linear Support Vector Classifier an\n",
    "linear_svc = LinearSVC(C=0.001)"
   ]
  },
  {
   "cell_type": "code",
   "execution_count": 10,
   "metadata": {},
   "outputs": [],
   "source": [
    "# Trainiere das Modell mit unserem Train Datensatz\n",
    "linear_svc = linear_svc.fit(X_train, y_train)"
   ]
  },
  {
   "cell_type": "code",
   "execution_count": 11,
   "metadata": {},
   "outputs": [
    {
     "name": "stdout",
     "output_type": "stream",
     "text": [
      "Train Accuracy: 0.8415529905561385\n",
      "\n",
      "Test Accuracy: 0.8404255319148937\n"
     ]
    }
   ],
   "source": [
    "# Zuerst sagen wir unsere Zielvariable mithilfe des Test Datensatzes vorher. \n",
    "\n",
    "y_pred_train = linear_svc.predict(X_train)\n",
    "\n",
    "lin_svc_accuracy = accuracy_score(y_train, y_pred_train)\n",
    "print(\"Train Accuracy: {}\".format(lin_svc_accuracy))\n",
    "\n",
    "# Nun sagen wir unsere Zielvariable mithilfe des Test Datensatzes vorher. \n",
    "\n",
    "y_pred_test = linear_svc.predict(X_test)\n",
    "    \n",
    "svm_lin_accuracy = accuracy_score(y_test, y_pred_test)\n",
    "print(\"\\nTest Accuracy: {}\".format(svm_lin_accuracy))"
   ]
  },
  {
   "cell_type": "markdown",
   "metadata": {},
   "source": [
    "#### 3.2.1.2 SVM mit RBF Kernel "
   ]
  },
  {
   "cell_type": "code",
   "execution_count": 12,
   "metadata": {},
   "outputs": [
    {
     "data": {
      "text/plain": [
       "SVC(gamma=0.03, probability=True, random_state=0)"
      ]
     },
     "execution_count": 12,
     "metadata": {},
     "output_type": "execute_result"
    }
   ],
   "source": [
    "# Legen Sie einen Support Vector Classifier mit RBF Kernel an\n",
    "rbf_svc = SVC(kernel='rbf', random_state=0, gamma=0.03, C=1.0, probability=True)\n",
    "\n",
    "# Trainieren Sie den Classifier\n",
    "rbf_svc.fit(X_train, y_train)"
   ]
  },
  {
   "cell_type": "code",
   "execution_count": 13,
   "metadata": {},
   "outputs": [
    {
     "name": "stdout",
     "output_type": "stream",
     "text": [
      "Train Accuracy: 0.844700944386149\n",
      "\n",
      "Test Accuracy: 0.8468085106382979\n"
     ]
    }
   ],
   "source": [
    "# Zuerst sagen wir unsere Zielvariable mithilfe des Test Datensatzes vorher. \n",
    "\n",
    "y_pred_train = rbf_svc.predict(X_train)\n",
    "\n",
    "accuracy = accuracy_score(y_train, y_pred_train)\n",
    "print(\"Train Accuracy: {}\".format(accuracy))\n",
    "\n",
    "# Nun sagen wir unsere Zielvariable mithilfe des Test Datensatzes vorher. \n",
    "\n",
    "y_pred_test = rbf_svc.predict(X_test)\n",
    "    \n",
    "rbf_svc_accuracy = accuracy_score(y_test, y_pred_test)\n",
    "print(\"\\nTest Accuracy: {}\".format(rbf_svc_accuracy))"
   ]
  },
  {
   "cell_type": "markdown",
   "metadata": {},
   "source": [
    "**4. Aufgabe (Hyperparameter Tuning II):**\n",
    "- setzen Sie unterschiedliche Werte für die Hyperparameter C und gamma ein und schauen Sie, wie sich die Train Accuracy und die Test Accuracy verändern.(Die Werte für C und gamma müssen > 0 sein). Was beobachten Sie für verschiedene Werte von C und gamma? Schreiben Sie mir auf Slack! \n",
    "- Notieren Sie sich ihre getesteten Werte und die ensprechende Accuracy. Behalten Sie das beste Modell."
   ]
  },
  {
   "cell_type": "markdown",
   "metadata": {},
   "source": [
    "### 3.2.2 Vorhersagen visualisieren"
   ]
  },
  {
   "cell_type": "code",
   "execution_count": 14,
   "metadata": {},
   "outputs": [
    {
     "data": {
      "text/html": [
       "<div>\n",
       "<style scoped>\n",
       "    .dataframe tbody tr th:only-of-type {\n",
       "        vertical-align: middle;\n",
       "    }\n",
       "\n",
       "    .dataframe tbody tr th {\n",
       "        vertical-align: top;\n",
       "    }\n",
       "\n",
       "    .dataframe thead th {\n",
       "        text-align: right;\n",
       "    }\n",
       "</style>\n",
       "<table border=\"1\" class=\"dataframe\">\n",
       "  <thead>\n",
       "    <tr style=\"text-align: right;\">\n",
       "      <th></th>\n",
       "      <th>Predicted Value</th>\n",
       "      <th>Probability (left: No, right: Yes)</th>\n",
       "      <th>Result</th>\n",
       "    </tr>\n",
       "    <tr>\n",
       "      <th>Actual Value</th>\n",
       "      <th></th>\n",
       "      <th></th>\n",
       "      <th></th>\n",
       "    </tr>\n",
       "  </thead>\n",
       "  <tbody>\n",
       "    <tr>\n",
       "      <td>1</td>\n",
       "      <td>1</td>\n",
       "      <td>[0.14079178047353716, 0.8592082195264631]</td>\n",
       "      <td>Right</td>\n",
       "    </tr>\n",
       "    <tr>\n",
       "      <td>1</td>\n",
       "      <td>1</td>\n",
       "      <td>[0.1404863751485743, 0.8595136248514257]</td>\n",
       "      <td>Right</td>\n",
       "    </tr>\n",
       "    <tr>\n",
       "      <td>0</td>\n",
       "      <td>0</td>\n",
       "      <td>[0.8740129650831265, 0.12598703491687352]</td>\n",
       "      <td>Right</td>\n",
       "    </tr>\n",
       "    <tr>\n",
       "      <td>1</td>\n",
       "      <td>0</td>\n",
       "      <td>[0.8776825978036142, 0.12231740219638598]</td>\n",
       "      <td>Wrong</td>\n",
       "    </tr>\n",
       "    <tr>\n",
       "      <td>1</td>\n",
       "      <td>1</td>\n",
       "      <td>[0.18833957961381723, 0.8116604203861828]</td>\n",
       "      <td>Right</td>\n",
       "    </tr>\n",
       "    <tr>\n",
       "      <td>1</td>\n",
       "      <td>1</td>\n",
       "      <td>[0.16472698376547085, 0.835273016234529]</td>\n",
       "      <td>Right</td>\n",
       "    </tr>\n",
       "    <tr>\n",
       "      <td>1</td>\n",
       "      <td>1</td>\n",
       "      <td>[0.18879581890119934, 0.8112041810988004]</td>\n",
       "      <td>Right</td>\n",
       "    </tr>\n",
       "    <tr>\n",
       "      <td>0</td>\n",
       "      <td>0</td>\n",
       "      <td>[0.9150677712838436, 0.08493222871615634]</td>\n",
       "      <td>Right</td>\n",
       "    </tr>\n",
       "    <tr>\n",
       "      <td>0</td>\n",
       "      <td>0</td>\n",
       "      <td>[0.5622520337470261, 0.43774796625297396]</td>\n",
       "      <td>Wrong</td>\n",
       "    </tr>\n",
       "    <tr>\n",
       "      <td>0</td>\n",
       "      <td>0</td>\n",
       "      <td>[0.8659302986906964, 0.1340697013093038]</td>\n",
       "      <td>Right</td>\n",
       "    </tr>\n",
       "  </tbody>\n",
       "</table>\n",
       "</div>"
      ],
      "text/plain": [
       "              Predicted Value         Probability (left: No, right: Yes)  \\\n",
       "Actual Value                                                               \n",
       "1             1                [0.14079178047353716, 0.8592082195264631]   \n",
       "1             1                [0.1404863751485743, 0.8595136248514257]    \n",
       "0             0                [0.8740129650831265, 0.12598703491687352]   \n",
       "1             0                [0.8776825978036142, 0.12231740219638598]   \n",
       "1             1                [0.18833957961381723, 0.8116604203861828]   \n",
       "1             1                [0.16472698376547085, 0.835273016234529]    \n",
       "1             1                [0.18879581890119934, 0.8112041810988004]   \n",
       "0             0                [0.9150677712838436, 0.08493222871615634]   \n",
       "0             0                [0.5622520337470261, 0.43774796625297396]   \n",
       "0             0                [0.8659302986906964, 0.1340697013093038]    \n",
       "\n",
       "             Result  \n",
       "Actual Value         \n",
       "1             Right  \n",
       "1             Right  \n",
       "0             Right  \n",
       "1             Wrong  \n",
       "1             Right  \n",
       "1             Right  \n",
       "1             Right  \n",
       "0             Right  \n",
       "0             Wrong  \n",
       "0             Right  "
      ]
     },
     "execution_count": 14,
     "metadata": {},
     "output_type": "execute_result"
    }
   ],
   "source": [
    "probabilities = rbf_svc.predict_proba(X_test)\n",
    "svm_df = pd.DataFrame(zip(y_test, y_pred_test, probabilities), \n",
    "                   columns = [\"Actual Value\", \"Predicted Value\", \"Probability (left: No, right: Yes)\"])\n",
    "\n",
    "svm_df[\"Result\"] = np.where(log_df[\"Actual Value\"] == log_df[\"Predicted Value\"], \"Right\", \"Wrong\")\n",
    "\n",
    "svm_df.set_index(\"Actual Value\").head(10)"
   ]
  },
  {
   "cell_type": "code",
   "execution_count": 15,
   "metadata": {},
   "outputs": [
    {
     "data": {
      "text/plain": [
       "<sklearn.metrics._plot.confusion_matrix.ConfusionMatrixDisplay at 0x7f90619c1550>"
      ]
     },
     "execution_count": 15,
     "metadata": {},
     "output_type": "execute_result"
    },
    {
     "data": {
      "image/png": "[encoded data removed]",
      "text/plain": [
       "<Figure size 720x720 with 2 Axes>"
      ]
     },
     "metadata": {
      "needs_background": "light"
     },
     "output_type": "display_data"
    }
   ],
   "source": [
    "fig, ax = plt.subplots(figsize=(10, 10))\n",
    "\n",
    "confusion_matrix(y_pred_test, y_test)\n",
    "metrics.plot_confusion_matrix(rbf_svc, X_test, y_test, normalize=None, ax=ax)"
   ]
  },
  {
   "cell_type": "markdown",
   "metadata": {},
   "source": [
    "**Vorteile von Support Vector Machines:**\n",
    "- erfordern weniger Feature-Engineering als z.B. die logistische Regression\n",
    "- kann nichtlineare Entscheidungsgrenzen erzeugen\n",
    "- kann mit vielen Features umgehen\n",
    "- ein LogReg kann auf einer SVM ausgeführt werden, um Wahrscheinlichkeiten zu erzeugen\n",
    "\n",
    "**Nachteile von Support Vector Machines:**\n",
    "- erfordert skalierte Daten\n",
    "- erzeugt nicht von sich aus Wahrscheinlichkeiten\n",
    "- wird bei großen Datensätzen langsam"
   ]
  },
  {
   "cell_type": "markdown",
   "metadata": {},
   "source": [
    "### 3.3 Deep Learning"
   ]
  },
  {
   "cell_type": "markdown",
   "metadata": {},
   "source": [
    "Neuronale Netzwerke und Deep Learning haben Sie ebenfalls in der letzten Machine Learning Sitzung behandelt (\"Depressionen am EEG erkennen\"). Wir werden heute ein etwas simpleres Neuronales Netzwerk bauen, ein sogenanntes **Feed-Forward Neural Network**. Das Feed-Forward Neural Network besteht aus einer/mehreren Hidden Layer(s), durch die Informationen von links nach rechts geschickt werden: \n",
    "\n",
    "<img src=\"img/neuron.png\" alt=\"neuron\" style=\"width: 400px;\"/>\n",
    "\n",
    "\n",
    "\n",
    "Weitere Informationen:\n",
    "https://youtu.be/aircAruvnKk"
   ]
  },
  {
   "cell_type": "code",
   "execution_count": 16,
   "metadata": {},
   "outputs": [],
   "source": [
    "# Erstmal Tensorflow runterladen über Anaconda Navigator --> Open Terminal --> conda install tensorflow\n",
    "\n",
    "import tensorflow as tf\n",
    "#from tensorflow import keras\n",
    "from sklearn import preprocessing\n",
    "\n",
    "from tensorflow.keras import Sequential\n",
    "#from tensorflow.keras.layers import Flatten\n"
   ]
  },
  {
   "cell_type": "code",
   "execution_count": 17,
   "metadata": {},
   "outputs": [],
   "source": [
    "# Wir müssen die Datensätze zu einem numpy array transformieren, um sie in das Modell einlesen zu können.\n",
    "train_x = np.asarray(X_train)\n",
    "train_y = np.asarray(y_train)\n",
    "validation_x = np.asarray(X_test)\n",
    "validation_y = np.asarray(y_test)"
   ]
  },
  {
   "cell_type": "markdown",
   "metadata": {},
   "source": [
    "#### 3.3.1 Construct Neural Network Architecture"
   ]
  },
  {
   "cell_type": "code",
   "execution_count": 18,
   "metadata": {},
   "outputs": [],
   "source": [
    "X_train.shape[1]\n",
    "feature_nr = X_train.shape[1] \n",
    "\n",
    "deep_model = tf.keras.Sequential([\n",
    "    tf.keras.layers.Flatten(input_shape=(feature_nr,)), # die Input shape hängt von der Anzahl an features ab\n",
    "    tf.keras.layers.Dense(16, activation=tf.nn.relu),\n",
    "    tf.keras.layers.Dense(16, activation=tf.nn.relu),\n",
    "    tf.keras.layers.Dropout(rate=0.2),\n",
    "    tf.keras.layers.Dense(1, activation=tf.nn.sigmoid), \n",
    "])"
   ]
  },
  {
   "cell_type": "markdown",
   "metadata": {},
   "source": [
    "#### 3.3.2 Compile Feedforward Neural Network"
   ]
  },
  {
   "cell_type": "code",
   "execution_count": 19,
   "metadata": {},
   "outputs": [],
   "source": [
    "# Compiling = Konvertieren sie das Modell in eine Form, die vom Computer ausgeführt werden kann\n",
    "deep_model.compile(optimizer='adam',\n",
    "              loss='binary_crossentropy',\n",
    "              metrics=['accuracy'])"
   ]
  },
  {
   "cell_type": "markdown",
   "metadata": {},
   "source": [
    "#### 3.3.3  Feedforward Neural Network trainieren und evaluieren"
   ]
  },
  {
   "cell_type": "markdown",
   "metadata": {},
   "source": [
    "Relevante Hyperparameter:\n",
    "- Batch_size = Größe d. Subsets der Daten, mit dem das Modell trainiert (Viel effizienter als den ganzen Datensatz einzulesen\n",
    "- Epochs = Anzahl an Runden, die das Modell trainiert. Eine Epoch ist vorbei, wenn das Modell jeden Batch und damit jeden Datenpunkt einmal gesehen hat "
   ]
  },
  {
   "cell_type": "code",
   "execution_count": 20,
   "metadata": {},
   "outputs": [
    {
     "name": "stdout",
     "output_type": "stream",
     "text": [
      "Train on 953 samples, validate on 470 samples\n",
      "Epoch 1/10\n",
      "953/953 [==============================] - 1s 1ms/sample - loss: 0.6503 - accuracy: 0.6453 - val_loss: 0.6365 - val_accuracy: 0.6660\n",
      "Epoch 2/10\n",
      "953/953 [==============================] - 0s 91us/sample - loss: 0.6160 - accuracy: 0.6863 - val_loss: 0.6004 - val_accuracy: 0.7404\n",
      "Epoch 3/10\n",
      "953/953 [==============================] - 0s 91us/sample - loss: 0.5708 - accuracy: 0.7639 - val_loss: 0.5563 - val_accuracy: 0.7745\n",
      "Epoch 4/10\n",
      "953/953 [==============================] - 0s 90us/sample - loss: 0.5229 - accuracy: 0.7922 - val_loss: 0.5095 - val_accuracy: 0.7830\n",
      "Epoch 5/10\n",
      "953/953 [==============================] - 0s 91us/sample - loss: 0.4939 - accuracy: 0.7870 - val_loss: 0.4781 - val_accuracy: 0.7915\n",
      "Epoch 6/10\n",
      "953/953 [==============================] - 0s 90us/sample - loss: 0.4545 - accuracy: 0.8132 - val_loss: 0.4575 - val_accuracy: 0.8085\n",
      "Epoch 7/10\n",
      "953/953 [==============================] - 0s 90us/sample - loss: 0.4308 - accuracy: 0.8248 - val_loss: 0.4428 - val_accuracy: 0.8213\n",
      "Epoch 8/10\n",
      "953/953 [==============================] - 0s 89us/sample - loss: 0.4130 - accuracy: 0.8290 - val_loss: 0.4368 - val_accuracy: 0.8191\n",
      "Epoch 9/10\n",
      "953/953 [==============================] - 0s 89us/sample - loss: 0.4106 - accuracy: 0.8437 - val_loss: 0.4362 - val_accuracy: 0.8234\n",
      "Epoch 10/10\n",
      "953/953 [==============================] - 0s 89us/sample - loss: 0.3916 - accuracy: 0.8489 - val_loss: 0.4318 - val_accuracy: 0.8191\n",
      "470/1 [====================================================================================================================================================================================================================================================================================================================================================================================================================================================================================================================================================================================================================================================================================================================================================================================================================================================================================================================================================================================================================================================================================================================================================================================================================================================================================================================================================================================================================================================================================================================================================================================================================================================================================================================================================================================================================================================================================================================================================================================================================================================================================================================================================================================================================================================================================================================================================================================================================================================================================================================================================================================================================================================================================================================================================================================================================================================================================================================================================================================================================================================================================================================================================================================================================================================================================================================================================================================================================================================================================================================================================================================================================================================================================================================================================================================================================================================================================================================================================================================================================================================================================================================================================================================================================================================================================================================================================================================================================================================================================================================================================================================================================================================================================================================================================================================================================================================================================================================================================================================================================================================================================================================================================================================================================================================================================================================================================================================================================================================================================================================================================================================================================================================================================================================================================================================================================================================================================================================================================================================================================================================================================================================================================================================================================================================================================================================================================================================================================================================================================================================================================================================================================================================================================================================================================================================================================================================================================================================================================================================================================================================================================================================================================================================================================================================================================================================================================================================================================================================================================================================================================================================================================================================================================================================================================================================================================================================================================================================================================================================================================================================================================================================================================================================================================================================================================================================================================================================================================================================================================================================================================================================================================================================================================================================================================================================================================================================================================================================================================================================================================================================================================================================================================================================================================================================================================================================================================================================================================================================================================================================================================================================================================================================================================================================================================================================================================================================================================================================================================================================================================================================================================================================================================================================================================================================================================================================================================================================================================================================================================================================================================================================================================================================================================================================================================================================================================================================================================================================================================================================================================================================================================================================================================================================================================================================================================================================================================================================================================================================================================================================================================================================================================================================================================================================================================================================================================================================================================================================================================================================================================================================================================================================================================================================================================================================================================================================================================================================================================================================================================================================================================================================================================================================================================================================================================================================================================================================================================================================================================================================================================================================================================================================================================================================================================================================================================================================================================================================================================================================================================================================================================================================================================================================================================================================================================================================================================================================================================================================================================================================================================================================================================================================================================================================================================================================================================================================================================================================================================================================================================================================================================================================================================================================================================] - 0s 34us/sample - loss: 0.4966 - accuracy: 0.8191\n"
     ]
    },
    {
     "name": "stdout",
     "output_type": "stream",
     "text": [
      "Test accuracy: 0.81914896\n"
     ]
    }
   ],
   "source": [
    "history = deep_model.fit(train_x, train_y, \n",
    "                         epochs=10, \n",
    "                         verbose = 1, \n",
    "                         batch_size=50, \n",
    "                         validation_data=(validation_x, validation_y))\n",
    "\n",
    "test_loss, test_acc = deep_model.evaluate(validation_x, validation_y)\n",
    "print('Test accuracy:', test_acc)\n",
    "\n",
    "deep_accuracy = test_acc"
   ]
  },
  {
   "cell_type": "code",
   "execution_count": 21,
   "metadata": {},
   "outputs": [
    {
     "data": {
      "image/png": "[encoded data removed]",
      "text/plain": [
       "<Figure size 720x360 with 1 Axes>"
      ]
     },
     "metadata": {
      "needs_background": "light"
     },
     "output_type": "display_data"
    }
   ],
   "source": [
    "# Get training and test accuracy histories\n",
    "training_accuracy = history.history['accuracy']\n",
    "test_accuracy = history.history['val_accuracy']\n",
    "\n",
    "# Create count of the number of epochs\n",
    "epoch_count = range(1, len(training_accuracy) + 1)\n",
    "\n",
    "# Visualize accuracy history\n",
    "plt.figure(figsize=(10,5))\n",
    "plt.plot(epoch_count, training_accuracy, 'r--')\n",
    "plt.plot(epoch_count, test_accuracy, 'b-')\n",
    "plt.legend(['Training Accuracy', 'Test Accuracy'])\n",
    "plt.xlabel('Epoch')\n",
    "plt.ylabel('Accuracy Score')\n",
    "plt.show();"
   ]
  },
  {
   "cell_type": "markdown",
   "metadata": {},
   "source": [
    "### Compare all models "
   ]
  },
  {
   "cell_type": "code",
   "execution_count": 22,
   "metadata": {},
   "outputs": [],
   "source": [
    "methodDict = {}\n",
    "methodDict['Dummy'] = dummy_accuracy\n",
    "methodDict['Linear_SVC'] = svm_lin_accuracy\n",
    "methodDict['RBF_Kernel'] = rbf_svc_accuracy\n",
    "methodDict['Neural_Network'] = deep_accuracy"
   ]
  },
  {
   "cell_type": "code",
   "execution_count": 23,
   "metadata": {},
   "outputs": [],
   "source": [
    "def plotSuccess():\n",
    "    s = pd.Series(methodDict)\n",
    "    s = s.sort_values(ascending=False)\n",
    "    plt.figure(figsize=(6,6))\n",
    "    #Colors\n",
    "    ax = s.plot(kind='bar') \n",
    "    for p in ax.patches:\n",
    "        ax.annotate(str(round(p.get_height(),2)), (p.get_x() * 1.005, p.get_height() * 1.005))\n",
    "    #plt.ylim([30.0, 90.0])\n",
    "    plt.xlabel('Method')\n",
    "    plt.ylabel('Percentage')\n",
    "    plt.title('Success of methods')\n",
    "     \n",
    "    plt.show()"
   ]
  },
  {
   "cell_type": "code",
   "execution_count": 24,
   "metadata": {},
   "outputs": [
    {
     "data": {
      "image/png": "[encoded data removed]",
      "text/plain": [
       "<Figure size 432x432 with 1 Axes>"
      ]
     },
     "metadata": {
      "needs_background": "light"
     },
     "output_type": "display_data"
    }
   ],
   "source": [
    "#sns.set()\n",
    "\n",
    "plotSuccess()"
   ]
  },
  {
   "cell_type": "markdown",
   "metadata": {},
   "source": [
    "### Weitere Ressourcen:\n",
    "\n",
    "- Chris Albon ist Autor von dem gern genutzten \"Machine Learning with Python Cookbook\". Auf seiner Seite finden sich ziemlich viele und gute Ressourcen https://chrisalbon.com/"
   ]
  }
 ],
 "metadata": {
  "kernelspec": {
   "display_name": "Python 3",
   "language": "python",
   "name": "python3"
  },
  "language_info": {
   "codemirror_mode": {
    "name": "ipython",
    "version": 3
   },
   "file_extension": ".py",
   "mimetype": "text/x-python",
   "name": "python",
   "nbconvert_exporter": "python",
   "pygments_lexer": "ipython3",
   "version": "3.7.4"
  }
 },
 "nbformat": 4,
 "nbformat_minor": 2
}
