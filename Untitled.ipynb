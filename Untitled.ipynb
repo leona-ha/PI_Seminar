{
 "cells": [
  {
   "cell_type": "code",
   "execution_count": 18,
   "metadata": {},
   "outputs": [],
   "source": [
    "import pandas as pd\n",
    "import numpy as np\n",
    "import re"
   ]
  },
  {
   "cell_type": "code",
   "execution_count": 14,
   "metadata": {},
   "outputs": [],
   "source": [
    "df_train = pd.read_csv(\"data_zindi/train.csv\", index_col= \"surveyid\")"
   ]
  },
  {
   "cell_type": "code",
   "execution_count": 15,
   "metadata": {},
   "outputs": [],
   "source": [
    "df_test = pd.read_csv(\"data_zindi/test.csv\", index_col= \"surveyid\")"
   ]
  },
  {
   "cell_type": "code",
   "execution_count": 16,
   "metadata": {},
   "outputs": [
    {
     "data": {
      "text/plain": [
       "(1143, 74)"
      ]
     },
     "execution_count": 16,
     "metadata": {},
     "output_type": "execute_result"
    }
   ],
   "source": [
    "df_train.shape"
   ]
  },
  {
   "cell_type": "code",
   "execution_count": 17,
   "metadata": {},
   "outputs": [
    {
     "data": {
      "text/plain": [
       "Index(['village', 'survey_date', 'femaleres', 'age', 'married', 'children',\n",
       "       'hhsize', 'edu', 'hh_children', 'hh_totalmembers', 'cons_nondurable',\n",
       "       'asset_livestock', 'asset_durable', 'asset_phone', 'asset_savings',\n",
       "       'asset_land_owned_total', 'asset_niceroof', 'cons_allfood',\n",
       "       'cons_ownfood', 'cons_alcohol', 'cons_tobacco', 'cons_med_total',\n",
       "       'cons_med_children', 'cons_ed', 'cons_social', 'cons_other',\n",
       "       'ent_wagelabor', 'ent_ownfarm', 'ent_business', 'ent_nonagbusiness',\n",
       "       'ent_employees', 'ent_nonag_revenue', 'ent_nonag_flowcost',\n",
       "       'ent_farmrevenue', 'ent_farmexpenses', 'ent_animalstockrev',\n",
       "       'ent_total_cost', 'fs_adskipm_often', 'fs_adwholed_often',\n",
       "       'fs_chskipm_often', 'fs_chwholed_often', 'fs_meat', 'fs_enoughtom',\n",
       "       'fs_sleephun', 'med_expenses_hh_ep', 'med_expenses_sp_ep',\n",
       "       'med_expenses_child_ep', 'med_portion_sickinjured',\n",
       "       'med_port_sick_child', 'med_afford_port', 'med_sickdays_hhave',\n",
       "       'med_healthconsult', 'med_vacc_newborns', 'med_child_check',\n",
       "       'med_u5_deaths', 'ed_expenses', 'ed_expenses_perkid', 'ed_schoolattend',\n",
       "       'ed_sch_missedpc', 'ed_work_act_pc', 'labor_primary',\n",
       "       'wage_expenditures', 'durable_investment', 'nondurable_investment',\n",
       "       'given_mpesa', 'amount_given_mpesa', 'received_mpesa',\n",
       "       'amount_received_mpesa', 'net_mpesa', 'saved_mpesa',\n",
       "       'amount_saved_mpesa', 'early_survey', 'depressed', 'day_of_week'],\n",
       "      dtype='object')"
      ]
     },
     "execution_count": 17,
     "metadata": {},
     "output_type": "execute_result"
    }
   ],
   "source": [
    "df_train.columns"
   ]
  },
  {
   "cell_type": "code",
   "execution_count": 19,
   "metadata": {},
   "outputs": [],
   "source": [
    "def missing_values_table(df):\n",
    "        # Total missing values\n",
    "        mis_val = df.isnull().sum()\n",
    "        \n",
    "        # Percentage of missing values\n",
    "        mis_val_percent = 100 * df.isnull().sum() / len(df)\n",
    "        \n",
    "        # Make a table with the results\n",
    "        mis_val_table = pd.concat([mis_val, mis_val_percent], axis=1)\n",
    "        \n",
    "        # Rename the columns\n",
    "        mis_val_table_ren_columns = mis_val_table.rename(\n",
    "        columns = {0 : 'Missing Values', 1 : '% of Total Values'})\n",
    "        \n",
    "        # Sort the table by percentage of missing descending\n",
    "        mis_val_table_ren_columns = mis_val_table_ren_columns[\n",
    "            mis_val_table_ren_columns.iloc[:,1] != 0].sort_values(\n",
    "        '% of Total Values', ascending=False).round(1)\n",
    "        \n",
    "        # Print some summary information\n",
    "        print (\"The dataset has \" + str(df.shape[1]) + \" columns.\\n\"      \n",
    "            \"There are \" + str(mis_val_table_ren_columns.shape[0]) +\n",
    "              \" columns that have missing values.\")\n",
    "        \n",
    "        # Return the dataframe with missing information\n",
    "        return mis_val_table_ren_columns"
   ]
  },
  {
   "cell_type": "code",
   "execution_count": 20,
   "metadata": {},
   "outputs": [
    {
     "name": "stdout",
     "output_type": "stream",
     "text": [
      "The dataset has 74 columns.\n",
      "There are 23 columns that have missing values.\n"
     ]
    }
   ],
   "source": [
    "miss_df = missing_values_table(df_train)"
   ]
  },
  {
   "cell_type": "code",
   "execution_count": 21,
   "metadata": {},
   "outputs": [
    {
     "data": {
      "text/html": [
       "<div>\n",
       "<style scoped>\n",
       "    .dataframe tbody tr th:only-of-type {\n",
       "        vertical-align: middle;\n",
       "    }\n",
       "\n",
       "    .dataframe tbody tr th {\n",
       "        vertical-align: top;\n",
       "    }\n",
       "\n",
       "    .dataframe thead th {\n",
       "        text-align: right;\n",
       "    }\n",
       "</style>\n",
       "<table border=\"1\" class=\"dataframe\">\n",
       "  <thead>\n",
       "    <tr style=\"text-align: right;\">\n",
       "      <th></th>\n",
       "      <th>Missing Values</th>\n",
       "      <th>% of Total Values</th>\n",
       "    </tr>\n",
       "  </thead>\n",
       "  <tbody>\n",
       "    <tr>\n",
       "      <td>med_u5_deaths</td>\n",
       "      <td>1084</td>\n",
       "      <td>94.8</td>\n",
       "    </tr>\n",
       "    <tr>\n",
       "      <td>med_expenses_sp_ep</td>\n",
       "      <td>878</td>\n",
       "      <td>76.8</td>\n",
       "    </tr>\n",
       "    <tr>\n",
       "      <td>med_expenses_hh_ep</td>\n",
       "      <td>693</td>\n",
       "      <td>60.6</td>\n",
       "    </tr>\n",
       "    <tr>\n",
       "      <td>med_expenses_child_ep</td>\n",
       "      <td>600</td>\n",
       "      <td>52.5</td>\n",
       "    </tr>\n",
       "    <tr>\n",
       "      <td>ed_work_act_pc</td>\n",
       "      <td>571</td>\n",
       "      <td>50.0</td>\n",
       "    </tr>\n",
       "    <tr>\n",
       "      <td>ed_sch_missedpc</td>\n",
       "      <td>467</td>\n",
       "      <td>40.9</td>\n",
       "    </tr>\n",
       "    <tr>\n",
       "      <td>ed_schoolattend</td>\n",
       "      <td>463</td>\n",
       "      <td>40.5</td>\n",
       "    </tr>\n",
       "    <tr>\n",
       "      <td>ed_expenses_perkid</td>\n",
       "      <td>463</td>\n",
       "      <td>40.5</td>\n",
       "    </tr>\n",
       "    <tr>\n",
       "      <td>ed_expenses</td>\n",
       "      <td>463</td>\n",
       "      <td>40.5</td>\n",
       "    </tr>\n",
       "    <tr>\n",
       "      <td>med_afford_port</td>\n",
       "      <td>423</td>\n",
       "      <td>37.0</td>\n",
       "    </tr>\n",
       "    <tr>\n",
       "      <td>med_healthconsult</td>\n",
       "      <td>423</td>\n",
       "      <td>37.0</td>\n",
       "    </tr>\n",
       "    <tr>\n",
       "      <td>cons_med_children</td>\n",
       "      <td>419</td>\n",
       "      <td>36.7</td>\n",
       "    </tr>\n",
       "    <tr>\n",
       "      <td>med_port_sick_child</td>\n",
       "      <td>416</td>\n",
       "      <td>36.4</td>\n",
       "    </tr>\n",
       "    <tr>\n",
       "      <td>fs_chwholed_often</td>\n",
       "      <td>416</td>\n",
       "      <td>36.4</td>\n",
       "    </tr>\n",
       "    <tr>\n",
       "      <td>fs_chskipm_often</td>\n",
       "      <td>416</td>\n",
       "      <td>36.4</td>\n",
       "    </tr>\n",
       "    <tr>\n",
       "      <td>fs_meat</td>\n",
       "      <td>334</td>\n",
       "      <td>29.2</td>\n",
       "    </tr>\n",
       "    <tr>\n",
       "      <td>med_sickdays_hhave</td>\n",
       "      <td>334</td>\n",
       "      <td>29.2</td>\n",
       "    </tr>\n",
       "    <tr>\n",
       "      <td>med_portion_sickinjured</td>\n",
       "      <td>334</td>\n",
       "      <td>29.2</td>\n",
       "    </tr>\n",
       "    <tr>\n",
       "      <td>fs_sleephun</td>\n",
       "      <td>334</td>\n",
       "      <td>29.2</td>\n",
       "    </tr>\n",
       "    <tr>\n",
       "      <td>fs_enoughtom</td>\n",
       "      <td>334</td>\n",
       "      <td>29.2</td>\n",
       "    </tr>\n",
       "    <tr>\n",
       "      <td>hh_totalmembers</td>\n",
       "      <td>334</td>\n",
       "      <td>29.2</td>\n",
       "    </tr>\n",
       "    <tr>\n",
       "      <td>cons_alcohol</td>\n",
       "      <td>43</td>\n",
       "      <td>3.8</td>\n",
       "    </tr>\n",
       "    <tr>\n",
       "      <td>cons_tobacco</td>\n",
       "      <td>20</td>\n",
       "      <td>1.7</td>\n",
       "    </tr>\n",
       "  </tbody>\n",
       "</table>\n",
       "</div>"
      ],
      "text/plain": [
       "                         Missing Values  % of Total Values\n",
       "med_u5_deaths                      1084               94.8\n",
       "med_expenses_sp_ep                  878               76.8\n",
       "med_expenses_hh_ep                  693               60.6\n",
       "med_expenses_child_ep               600               52.5\n",
       "ed_work_act_pc                      571               50.0\n",
       "ed_sch_missedpc                     467               40.9\n",
       "ed_schoolattend                     463               40.5\n",
       "ed_expenses_perkid                  463               40.5\n",
       "ed_expenses                         463               40.5\n",
       "med_afford_port                     423               37.0\n",
       "med_healthconsult                   423               37.0\n",
       "cons_med_children                   419               36.7\n",
       "med_port_sick_child                 416               36.4\n",
       "fs_chwholed_often                   416               36.4\n",
       "fs_chskipm_often                    416               36.4\n",
       "fs_meat                             334               29.2\n",
       "med_sickdays_hhave                  334               29.2\n",
       "med_portion_sickinjured             334               29.2\n",
       "fs_sleephun                         334               29.2\n",
       "fs_enoughtom                        334               29.2\n",
       "hh_totalmembers                     334               29.2\n",
       "cons_alcohol                         43                3.8\n",
       "cons_tobacco                         20                1.7"
      ]
     },
     "execution_count": 21,
     "metadata": {},
     "output_type": "execute_result"
    }
   ],
   "source": [
    "miss_df"
   ]
  },
  {
   "cell_type": "code",
   "execution_count": null,
   "metadata": {},
   "outputs": [],
   "source": []
  }
 ],
 "metadata": {
  "kernelspec": {
   "display_name": "Python 3",
   "language": "python",
   "name": "python3"
  },
  "language_info": {
   "codemirror_mode": {
    "name": "ipython",
    "version": 3
   },
   "file_extension": ".py",
   "mimetype": "text/x-python",
   "name": "python",
   "nbconvert_exporter": "python",
   "pygments_lexer": "ipython3",
   "version": "3.7.4"
  }
 },
 "nbformat": 4,
 "nbformat_minor": 2
}
